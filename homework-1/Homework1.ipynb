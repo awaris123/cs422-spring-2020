{
 "cells": [
  {
   "cell_type": "markdown",
   "metadata": {},
   "source": [
    "Name: Aakef Waris <br>\n",
    "Course: CS-422<br>\n",
    "Date Due: Februrary, 8, 2020\n",
    "\n",
    "# Homework 1\n"
   ]
  },
  {
   "cell_type": "markdown",
   "metadata": {},
   "source": [
    "# Recitation Problems"
   ]
  },
  {
   "cell_type": "markdown",
   "metadata": {},
   "source": [
    "## Chapter 1"
   ]
  },
  {
   "cell_type": "markdown",
   "metadata": {},
   "source": [
    "### 1) Discuss whether or not each of the following activities is a data mining task.\n",
    "\n",
    "##### a) Dividing the customers of a company according to their gender.\n",
    "\n",
    "   - No not really. We either have to be predicting or describing data.\n",
    "\n",
    "##### b) Dividing the customers of a company according to their profitability.\n",
    "    \n",
    "   - No, it's the same reason as part A, there's no prediction, nor is there any pattern recognition\n",
    "    \n",
    "##### c) Computing the total sales of a company.\n",
    "    \n",
    "   - No, same reason as before.\n",
    "\n",
    "##### d) Sorting a student database based on student identification numbers.\n",
    "    \n",
    "   - No, this is a simple query\n",
    "\n",
    "##### e) Predicting the outcomes of tossing a (fair) pair of dice.\n",
    "    \n",
    "   - Yes, (prediction) however useless, as prior dice data cannot predict future roles.\n",
    "\n",
    "##### f) Predicting the future stock price of a company using historical records.\n",
    "    \n",
    "   - Yes, this is predictive modeling\n",
    "\n",
    "##### g) Monitoring the heart rate of a patient for abnormalities.\n",
    "    \n",
    "   - No, this is just collection, not prediction or classification\n",
    "\n",
    "##### h) Monitoring seismic waves for earthquake activities.\n",
    "\n",
    "   - No, there's no prediction or classification\n",
    "\n",
    "##### i) Extracting the frequencies of a sound wave.\n",
    "\n",
    "   - No, This is just data collection "
   ]
  },
  {
   "cell_type": "markdown",
   "metadata": {},
   "source": [
    "## Chapter 2"
   ]
  },
  {
   "cell_type": "markdown",
   "metadata": {},
   "source": [
    "### 2) Classify the following attributes as binary, discrete, or continuous. Also classify them as qualitative (nominal or ordinal) or quantitative (interval or ratio). Some cases may have more than one interpretation, so briefly indicate your reasoning if you think there may be some ambiguity.\n",
    "\n",
    "#### Example: Age in years. Answer: Discrete, quantitative, ratio\n",
    "\n",
    "##### a) Time in terms of AM or PM.\n",
    "\n",
    "   - discrete, quantitative, interval \n",
    "\n",
    "##### b) Brightness as measured by a light meter.\n",
    "\n",
    "   - continuous, quantitative, ratio \n",
    "\n",
    "##### c) Brightness as measured by people’s judgments.\n",
    "\n",
    "   - discrete, qualitative, ordinal (ex. \"That's really bright\" vs \"That's kinda bright\")\n",
    "\n",
    "##### d) Angles as measured in degrees between 0 and 360.\n",
    "    \n",
    "   - discrete, quantitative, ratio\n",
    "\n",
    "##### e) Bronze, Silver, and Gold medals as awarded at the Olympics.\n",
    "    \n",
    "   - discrete, qualitative, ordinal\n",
    "    \n",
    "##### f) Height above sea level.\n",
    "    \n",
    "   - continuous, quantitative, interval\n",
    "    \n",
    "##### g) Number of patients in a hospital.\n",
    "\n",
    "   - discrete, quantitative, interval\n",
    "\n",
    "##### h) ISBN numbers for books. (Look up the format on the Web.)\n",
    "   \n",
    "   - discrete, qualitative, nominal\n",
    "\n",
    "##### i) Ability to pass light in terms of the following values: opaque, translucent, transparent.\n",
    "\n",
    "   - discrete, qualitative, ordinal \n",
    "\n",
    "##### j) Military rank.\n",
    "\n",
    "   - discrete, qualitative, ordinal\n",
    "\n",
    "##### k) Distance from the center of campus.\n",
    "\n",
    "   - continuous, quantitative, interval\n",
    "\n",
    "##### l) Density of a substance in grams per cubic centimeter.\n",
    "\n",
    "   - continuous, quantitative, ratio\n",
    "\n",
    "##### m) Coat check number. (When you attend an event, you can often give your coat to someone who, in turn, gives you a number that you can use to claim your coat when you leave.)\n",
    "\n",
    "   - discrete, quantitative, nominal"
   ]
  },
  {
   "cell_type": "markdown",
   "metadata": {},
   "source": [
    "### 7) Which of the following quantities is likely to show more temporal autocorrelation: daily rainfall or daily temperature? Why?"
   ]
  },
  {
   "cell_type": "markdown",
   "metadata": {},
   "source": [
    "- Daily temperature, primarily becuase, temperature from day to day is relatively similar in most climates, however when discussing rain, unless the climate is particularly rainy, we wouldn't see multiple days of rain. Becuase of the way the water cycle works, water would have to evaporate and build up in the clouds for it to rain again. "
   ]
  },
  {
   "cell_type": "markdown",
   "metadata": {},
   "source": [
    "### 15) You are given a set of m objects that is divided into k groups, where the ith group is of size $m_i$\n",
    "### If the goal is to obtain a sample of size n < m, what is the difference between the following two sampling schemes? (Assume sampling with replacement.)\n",
    "\n",
    "##### a) We randomly select $\\frac{(n×m_i)}{m}$ elements from each group.\n",
    "\n",
    "##### b) We randomly select $n$ elements from the data set, without regard for the group to which an object belongs.\n"
   ]
  },
  {
   "cell_type": "markdown",
   "metadata": {},
   "source": [
    "- The difference between the two schemes is that in 'a', We get a representative sample size of each group m, however, in 'b', we do not, and the sample, is not representative of the set of 'm' objects"
   ]
  },
  {
   "cell_type": "markdown",
   "metadata": {},
   "source": [
    "### 16) Consider a document-term matrix, where $tf_{ij}$ is the frequency of the $i^{th}$ word (term) in the $j^{th}$ document and $m$ is the number of documents. Consider the variable transformation that is defined by \n",
    "\n",
    "### $tf' _{ij}=tf_{ij}×log(\\frac{m}{df_{i}})$ \n",
    "\n",
    "### where $df_i$ is the number of documents in which the $i^{th}$ term appears, which is known as the document frequency of the term. This transformation is known as the inverse document frequency transformation.\n",
    "\n",
    "##### a) What is the effect of this transformation if a term occurs in one document? In every document?\n",
    "\n",
    "   - We can see that if a word occurs in 1 document, then the resultant frequency value increases depending on the total documents, \n",
    "   - If this word occurs in all documents the frequency drops to 0\n",
    "\n",
    "##### b) What might be the purpose of this transformation?\n",
    "\n",
    "   - The purpose of this transform might be to emphasize documents that have high occurances of words that are not commonly used. The only time we will see a high value, is when the number of docuemnts where a given term occurs, is low, but we see that term occur quite often in a few documents relative to the total amount of documents."
   ]
  },
  {
   "cell_type": "markdown",
   "metadata": {},
   "source": [
    "### 17) Assume that we apply a square root transformation to a ratio attribute $x$ to obtain the new attribute $x^*$. As part of your analysis, you identify an interval (a, b) in which $x^*$ has a linear relationship to another attribute $y$.\n",
    "\n",
    "##### a) What is the corresponding interval (A, B) in terms of x ?\n",
    "\n",
    "- $({A}^2, {B}^2)$\n",
    "\n",
    "##### b) Give an equation that relates y to x.\n",
    "\n",
    "- $y = {x}^2 + C$"
   ]
  },
  {
   "cell_type": "markdown",
   "metadata": {},
   "source": [
    "### 18) This exercise compares and contrasts some similarity and distance measures. For binary data, the L1 distance corresponds to the Hamming distance; that is, the number of bits that are different between two binary vectors. The Jaccard similarity is a measure of the similarity between two binary vectors. \n",
    "\n",
    "##### a) Compute the Hamming distance and the Jaccard similarity between the following two binary vectors. \n",
    "##### $x = 0101010001$\n",
    "##### $y = 0100011000$\n",
    "\n",
    "   - Hamming distance: 3\n",
    "   - Jaccard similarity: 2/5\n",
    "\n",
    "\n",
    "\n",
    "##### b) Which approach, Jaccard or Hamming distance, is more similar to the Simple Matching Coefficient, and which approach is more similar to the cosine measure? Explain. (Note: The Hamming measure is a distance, while the other three measures are similarities, but don’t let this confuse you.)\n",
    "\n",
    "   - The jaccard similarity is more similar to to the cosine measure, becuase they both ignore 0 to 0 measures\n",
    "   - The hamming distance is similar to the simple matching coefficant because the simple matching coeffiant is just: 1 - (hamming distance / # of data points)\n",
    "\n",
    "##### c)Suppose that you are comparing how similar two organisms of different species are in terms of the number of genes they share. Describe which measure, Hamming or Jaccard, you think would be more appropriate for comparing the genetic makeup of two organisms. Explain. (Assume that each animal is represented as a binary vector, where each attribute is 1 if a particular gene is present in the organism and 0 otherwise.)\n",
    "\n",
    "   - I think taking the Jaccard similarity would make most sense here because, in this case we don't really care about the genes that the organisims don't share. So it's best to use a measurement that ignores 0 to 0 matches\n",
    "     \n",
    "\n",
    "##### d) If you wanted to compare the genetic makeup of two organisms of the same species, e.g., two human beings, would you use the Hamming distance, the Jaccard coefficient, or a different measure of similarity or distance? Explain. (Note that two human beings share  $> 99.9\\%$ of the same genes.)\n",
    "\n",
    "   - I think the hamming distance would be better because the focus here is on the genes that are dissimialar. If two humans have 99.9% genes in common, we would just see a Jaccard similarties really close to 1.  "
   ]
  },
  {
   "cell_type": "markdown",
   "metadata": {},
   "source": [
    "### 19. For the following vectors, x and y, calculate the indicated similarity or distance measures."
   ]
  },
  {
   "cell_type": "code",
   "execution_count": 1,
   "metadata": {},
   "outputs": [],
   "source": [
    "\n",
    "class VectorPair(object):\n",
    "    \n",
    "    def __init__(self, x, y):\n",
    "        self.x = x\n",
    "        self.y = y\n",
    "        \n",
    "    def correlation(self):\n",
    "        toInt = lambda s : int(s)\n",
    "\n",
    "        def std_deviation(vector):\n",
    "            size = len(vector)\n",
    "            mean = sum(map(toInt, vector)) / size\n",
    "            squareDiff = lambda x : (x - mean)**2\n",
    "            return ((1 / (size-1)) * (sum (map(squareDiff, (map(toInt, vector)))))) ** (1 / 2)\n",
    "\n",
    "        def covariance(x, y):\n",
    "            sizeX = len(x)\n",
    "            sizeY = len(y)\n",
    "            meanX = sum(map(toInt, x)) / sizeX\n",
    "            meanY = sum(map(toInt, y)) / sizeY\n",
    "\n",
    "            func = lambda tup : (tup[0] - meanX) * (tup[1] - meanY)\n",
    "\n",
    "            return (1 / (sizeX-1)) * sum(map(func, zip(map(toInt, x), map(toInt, y))))\n",
    "\n",
    "        try:\n",
    "            return covariance(self.x, self.y) / (std_deviation(self.x) * std_deviation(self.y))\n",
    "        except:\n",
    "            return 'undefined'\n",
    "\n",
    "    def cosineSimilarity(self):\n",
    "        dotProduct = sum(map(lambda tup: int(tup[0]) * int(tup[1]), zip(self.x, self.y)))\n",
    "        magnX = (sum(map(lambda n : int(n)**2, self.x))) ** (1/2)\n",
    "        magnY = (sum(map(lambda n: int(n)**2, self.y))) ** (1/2)\n",
    "        return dotProduct / (magnX * magnY)\n",
    "\n",
    "    def euclideanDistance(self):\n",
    "        return sum(map(lambda tup: (tup[0] - tup[1])**2  ,zip(self.x, self.y)))\n",
    "\n",
    "    def jaccard(self):\n",
    "        numerator = sum(map(lambda tup: 1 if tup[0] == 1 and tup[1]== 1 else 0 ,zip(self.x, self.y)))\n",
    "        denominator = sum(map(lambda tup: 1 if tup[0] != 0 or tup[1] != 0 else 0, zip(self.x, self.y)))\n",
    "        return numerator / denominator\n",
    "\n",
    "\n"
   ]
  },
  {
   "cell_type": "markdown",
   "metadata": {},
   "source": [
    "##### a) x = (1, 1, 1, 1), y = (2, 2, 2, 2) cosine, correlation, Euclidean"
   ]
  },
  {
   "cell_type": "code",
   "execution_count": 2,
   "metadata": {},
   "outputs": [
    {
     "name": "stdout",
     "output_type": "stream",
     "text": [
      "Correlation: undefined\n",
      "Cosine Similarity: 1.0\n",
      "Euclidean Distance: 4\n"
     ]
    }
   ],
   "source": [
    "vp = VectorPair((1, 1, 1, 1),(2, 2, 2, 2))\n",
    "print(\"Correlation:\", vp.correlation())\n",
    "print(\"Cosine Similarity:\", vp.cosineSimilarity())\n",
    "print(\"Euclidean Distance:\",vp.euclideanDistance())"
   ]
  },
  {
   "cell_type": "markdown",
   "metadata": {},
   "source": [
    "##### b) x = (0, 1, 0, 1), y = (1, 0, 1, 0) cosine, correlation, Euclidean, Jaccard"
   ]
  },
  {
   "cell_type": "code",
   "execution_count": 3,
   "metadata": {},
   "outputs": [
    {
     "name": "stdout",
     "output_type": "stream",
     "text": [
      "Cosine Similarity: 0.0\n",
      "Correlation: -1.0\n",
      "Euclidean Distance: 4\n",
      "Jaccard: 0.0\n"
     ]
    }
   ],
   "source": [
    "vp = VectorPair((0, 1, 0, 1),(1, 0, 1, 0))\n",
    "print(\"Cosine Similarity:\", vp.cosineSimilarity())\n",
    "print(\"Correlation:\", vp.correlation())\n",
    "print(\"Euclidean Distance:\",vp.euclideanDistance())\n",
    "print(\"Jaccard:\", vp.jaccard())"
   ]
  },
  {
   "cell_type": "markdown",
   "metadata": {},
   "source": [
    "##### c) x = (0, -1, 0, 1), y = (1, 0, 1, 0)  cosine, correlation, Euclidean"
   ]
  },
  {
   "cell_type": "code",
   "execution_count": 4,
   "metadata": {},
   "outputs": [
    {
     "name": "stdout",
     "output_type": "stream",
     "text": [
      "Cosine Similarity: 0.0\n",
      "Correlation: 0.0\n",
      "Euclidean Distance: 4\n"
     ]
    }
   ],
   "source": [
    "vp = VectorPair((0, -1, 0, 1),(1, 0, 1, 0))\n",
    "print(\"Cosine Similarity:\", vp.cosineSimilarity())\n",
    "print(\"Correlation:\", vp.correlation())\n",
    "print(\"Euclidean Distance:\",vp.euclideanDistance())\n"
   ]
  },
  {
   "cell_type": "markdown",
   "metadata": {},
   "source": [
    "\n",
    "##### d) x = (1, 1, 0, 1, 0, 1), y = (1, 1, 1, 0, 0, 1) cosine, correlation, Jaccard"
   ]
  },
  {
   "cell_type": "code",
   "execution_count": 5,
   "metadata": {},
   "outputs": [
    {
     "name": "stdout",
     "output_type": "stream",
     "text": [
      "Cosine Similarity: 0.75\n",
      "Correlation: 0.25\n",
      "Jaccard: 0.6\n"
     ]
    }
   ],
   "source": [
    "vp = VectorPair((1, 1, 0, 1, 0, 1),(1, 1, 1, 0, 0, 1))\n",
    "print(\"Cosine Similarity:\", vp.cosineSimilarity())\n",
    "print(\"Correlation:\", vp.correlation())\n",
    "print(\"Jaccard:\",vp.jaccard())"
   ]
  },
  {
   "cell_type": "markdown",
   "metadata": {},
   "source": [
    "##### e) x = (2, -1, 0, 2, -3), y = (-1, 1, -1, 0, 0, -1) cosine, correlation"
   ]
  },
  {
   "cell_type": "code",
   "execution_count": 6,
   "metadata": {},
   "outputs": [
    {
     "name": "stdout",
     "output_type": "stream",
     "text": [
      "Cosine Similarity: -0.3535533905932738\n",
      "Correlation: -0.33541019662496846\n"
     ]
    }
   ],
   "source": [
    "vp = VectorPair((2, -1, 0, 2, 3),(-1, 1, -1, 0, 0, -1))\n",
    "print(\"Cosine Similarity:\", vp.cosineSimilarity())\n",
    "print(\"Correlation:\", vp.correlation())"
   ]
  },
  {
   "cell_type": "markdown",
   "metadata": {},
   "source": [
    "# Practicum Problems"
   ]
  },
  {
   "cell_type": "code",
   "execution_count": 7,
   "metadata": {},
   "outputs": [],
   "source": [
    "import numpy as np\n",
    "import pandas as pd\n",
    "import matplotlib.pyplot as plt\n",
    "import seaborn as sn\n",
    "from sklearn.impute import SimpleImputer\n",
    "from sklearn.decomposition import PCA\n",
    "%matplotlib inline"
   ]
  },
  {
   "cell_type": "markdown",
   "metadata": {},
   "source": [
    "## Problem 2.1"
   ]
  },
  {
   "cell_type": "code",
   "execution_count": 8,
   "metadata": {},
   "outputs": [
    {
     "data": {
      "text/html": [
       "<div>\n",
       "<style scoped>\n",
       "    .dataframe tbody tr th:only-of-type {\n",
       "        vertical-align: middle;\n",
       "    }\n",
       "\n",
       "    .dataframe tbody tr th {\n",
       "        vertical-align: top;\n",
       "    }\n",
       "\n",
       "    .dataframe thead th {\n",
       "        text-align: right;\n",
       "    }\n",
       "</style>\n",
       "<table border=\"1\" class=\"dataframe\">\n",
       "  <thead>\n",
       "    <tr style=\"text-align: right;\">\n",
       "      <th></th>\n",
       "      <th>survived</th>\n",
       "      <th>pclass</th>\n",
       "      <th>sex</th>\n",
       "      <th>age</th>\n",
       "      <th>sibsp</th>\n",
       "      <th>parch</th>\n",
       "      <th>fare</th>\n",
       "      <th>embarked</th>\n",
       "      <th>class</th>\n",
       "      <th>who</th>\n",
       "      <th>adult_male</th>\n",
       "      <th>deck</th>\n",
       "      <th>embark_town</th>\n",
       "      <th>alive</th>\n",
       "      <th>alone</th>\n",
       "    </tr>\n",
       "  </thead>\n",
       "  <tbody>\n",
       "    <tr>\n",
       "      <th>0</th>\n",
       "      <td>0</td>\n",
       "      <td>3</td>\n",
       "      <td>male</td>\n",
       "      <td>22.0</td>\n",
       "      <td>1</td>\n",
       "      <td>0</td>\n",
       "      <td>7.2500</td>\n",
       "      <td>S</td>\n",
       "      <td>Third</td>\n",
       "      <td>man</td>\n",
       "      <td>True</td>\n",
       "      <td>NaN</td>\n",
       "      <td>Southampton</td>\n",
       "      <td>no</td>\n",
       "      <td>False</td>\n",
       "    </tr>\n",
       "    <tr>\n",
       "      <th>1</th>\n",
       "      <td>1</td>\n",
       "      <td>1</td>\n",
       "      <td>female</td>\n",
       "      <td>38.0</td>\n",
       "      <td>1</td>\n",
       "      <td>0</td>\n",
       "      <td>71.2833</td>\n",
       "      <td>C</td>\n",
       "      <td>First</td>\n",
       "      <td>woman</td>\n",
       "      <td>False</td>\n",
       "      <td>C</td>\n",
       "      <td>Cherbourg</td>\n",
       "      <td>yes</td>\n",
       "      <td>False</td>\n",
       "    </tr>\n",
       "    <tr>\n",
       "      <th>2</th>\n",
       "      <td>1</td>\n",
       "      <td>3</td>\n",
       "      <td>female</td>\n",
       "      <td>26.0</td>\n",
       "      <td>0</td>\n",
       "      <td>0</td>\n",
       "      <td>7.9250</td>\n",
       "      <td>S</td>\n",
       "      <td>Third</td>\n",
       "      <td>woman</td>\n",
       "      <td>False</td>\n",
       "      <td>NaN</td>\n",
       "      <td>Southampton</td>\n",
       "      <td>yes</td>\n",
       "      <td>True</td>\n",
       "    </tr>\n",
       "    <tr>\n",
       "      <th>3</th>\n",
       "      <td>1</td>\n",
       "      <td>1</td>\n",
       "      <td>female</td>\n",
       "      <td>35.0</td>\n",
       "      <td>1</td>\n",
       "      <td>0</td>\n",
       "      <td>53.1000</td>\n",
       "      <td>S</td>\n",
       "      <td>First</td>\n",
       "      <td>woman</td>\n",
       "      <td>False</td>\n",
       "      <td>C</td>\n",
       "      <td>Southampton</td>\n",
       "      <td>yes</td>\n",
       "      <td>False</td>\n",
       "    </tr>\n",
       "    <tr>\n",
       "      <th>4</th>\n",
       "      <td>0</td>\n",
       "      <td>3</td>\n",
       "      <td>male</td>\n",
       "      <td>35.0</td>\n",
       "      <td>0</td>\n",
       "      <td>0</td>\n",
       "      <td>8.0500</td>\n",
       "      <td>S</td>\n",
       "      <td>Third</td>\n",
       "      <td>man</td>\n",
       "      <td>True</td>\n",
       "      <td>NaN</td>\n",
       "      <td>Southampton</td>\n",
       "      <td>no</td>\n",
       "      <td>True</td>\n",
       "    </tr>\n",
       "    <tr>\n",
       "      <th>...</th>\n",
       "      <td>...</td>\n",
       "      <td>...</td>\n",
       "      <td>...</td>\n",
       "      <td>...</td>\n",
       "      <td>...</td>\n",
       "      <td>...</td>\n",
       "      <td>...</td>\n",
       "      <td>...</td>\n",
       "      <td>...</td>\n",
       "      <td>...</td>\n",
       "      <td>...</td>\n",
       "      <td>...</td>\n",
       "      <td>...</td>\n",
       "      <td>...</td>\n",
       "      <td>...</td>\n",
       "    </tr>\n",
       "    <tr>\n",
       "      <th>886</th>\n",
       "      <td>0</td>\n",
       "      <td>2</td>\n",
       "      <td>male</td>\n",
       "      <td>27.0</td>\n",
       "      <td>0</td>\n",
       "      <td>0</td>\n",
       "      <td>13.0000</td>\n",
       "      <td>S</td>\n",
       "      <td>Second</td>\n",
       "      <td>man</td>\n",
       "      <td>True</td>\n",
       "      <td>NaN</td>\n",
       "      <td>Southampton</td>\n",
       "      <td>no</td>\n",
       "      <td>True</td>\n",
       "    </tr>\n",
       "    <tr>\n",
       "      <th>887</th>\n",
       "      <td>1</td>\n",
       "      <td>1</td>\n",
       "      <td>female</td>\n",
       "      <td>19.0</td>\n",
       "      <td>0</td>\n",
       "      <td>0</td>\n",
       "      <td>30.0000</td>\n",
       "      <td>S</td>\n",
       "      <td>First</td>\n",
       "      <td>woman</td>\n",
       "      <td>False</td>\n",
       "      <td>B</td>\n",
       "      <td>Southampton</td>\n",
       "      <td>yes</td>\n",
       "      <td>True</td>\n",
       "    </tr>\n",
       "    <tr>\n",
       "      <th>888</th>\n",
       "      <td>0</td>\n",
       "      <td>3</td>\n",
       "      <td>female</td>\n",
       "      <td>NaN</td>\n",
       "      <td>1</td>\n",
       "      <td>2</td>\n",
       "      <td>23.4500</td>\n",
       "      <td>S</td>\n",
       "      <td>Third</td>\n",
       "      <td>woman</td>\n",
       "      <td>False</td>\n",
       "      <td>NaN</td>\n",
       "      <td>Southampton</td>\n",
       "      <td>no</td>\n",
       "      <td>False</td>\n",
       "    </tr>\n",
       "    <tr>\n",
       "      <th>889</th>\n",
       "      <td>1</td>\n",
       "      <td>1</td>\n",
       "      <td>male</td>\n",
       "      <td>26.0</td>\n",
       "      <td>0</td>\n",
       "      <td>0</td>\n",
       "      <td>30.0000</td>\n",
       "      <td>C</td>\n",
       "      <td>First</td>\n",
       "      <td>man</td>\n",
       "      <td>True</td>\n",
       "      <td>C</td>\n",
       "      <td>Cherbourg</td>\n",
       "      <td>yes</td>\n",
       "      <td>True</td>\n",
       "    </tr>\n",
       "    <tr>\n",
       "      <th>890</th>\n",
       "      <td>0</td>\n",
       "      <td>3</td>\n",
       "      <td>male</td>\n",
       "      <td>32.0</td>\n",
       "      <td>0</td>\n",
       "      <td>0</td>\n",
       "      <td>7.7500</td>\n",
       "      <td>Q</td>\n",
       "      <td>Third</td>\n",
       "      <td>man</td>\n",
       "      <td>True</td>\n",
       "      <td>NaN</td>\n",
       "      <td>Queenstown</td>\n",
       "      <td>no</td>\n",
       "      <td>True</td>\n",
       "    </tr>\n",
       "  </tbody>\n",
       "</table>\n",
       "<p>891 rows × 15 columns</p>\n",
       "</div>"
      ],
      "text/plain": [
       "     survived  pclass     sex   age  sibsp  parch     fare embarked   class  \\\n",
       "0           0       3    male  22.0      1      0   7.2500        S   Third   \n",
       "1           1       1  female  38.0      1      0  71.2833        C   First   \n",
       "2           1       3  female  26.0      0      0   7.9250        S   Third   \n",
       "3           1       1  female  35.0      1      0  53.1000        S   First   \n",
       "4           0       3    male  35.0      0      0   8.0500        S   Third   \n",
       "..        ...     ...     ...   ...    ...    ...      ...      ...     ...   \n",
       "886         0       2    male  27.0      0      0  13.0000        S  Second   \n",
       "887         1       1  female  19.0      0      0  30.0000        S   First   \n",
       "888         0       3  female   NaN      1      2  23.4500        S   Third   \n",
       "889         1       1    male  26.0      0      0  30.0000        C   First   \n",
       "890         0       3    male  32.0      0      0   7.7500        Q   Third   \n",
       "\n",
       "       who  adult_male deck  embark_town alive  alone  \n",
       "0      man        True  NaN  Southampton    no  False  \n",
       "1    woman       False    C    Cherbourg   yes  False  \n",
       "2    woman       False  NaN  Southampton   yes   True  \n",
       "3    woman       False    C  Southampton   yes  False  \n",
       "4      man        True  NaN  Southampton    no   True  \n",
       "..     ...         ...  ...          ...   ...    ...  \n",
       "886    man        True  NaN  Southampton    no   True  \n",
       "887  woman       False    B  Southampton   yes   True  \n",
       "888  woman       False  NaN  Southampton    no  False  \n",
       "889    man        True    C    Cherbourg   yes   True  \n",
       "890    man        True  NaN   Queenstown    no   True  \n",
       "\n",
       "[891 rows x 15 columns]"
      ]
     },
     "execution_count": 8,
     "metadata": {},
     "output_type": "execute_result"
    }
   ],
   "source": [
    "df = sn.load_dataset('titanic')\n",
    "df"
   ]
  },
  {
   "cell_type": "markdown",
   "metadata": {},
   "source": [
    "\n",
    "Isolating survivors only"
   ]
  },
  {
   "cell_type": "code",
   "execution_count": 9,
   "metadata": {},
   "outputs": [],
   "source": [
    "survived = df[df.survived == 1]"
   ]
  },
  {
   "cell_type": "markdown",
   "metadata": {},
   "source": [
    "Here we take a distibution of males vs femaes who survived"
   ]
  },
  {
   "cell_type": "code",
   "execution_count": 10,
   "metadata": {},
   "outputs": [
    {
     "data": {
      "text/plain": [
       "<matplotlib.axes._subplots.AxesSubplot at 0x7f3c74839710>"
      ]
     },
     "execution_count": 10,
     "metadata": {},
     "output_type": "execute_result"
    },
    {
     "data": {
      "image/png": "[encoded data removed]",
      "text/plain": [
       "<Figure size 432x288 with 1 Axes>"
      ]
     },
     "metadata": {
      "needs_background": "light"
     },
     "output_type": "display_data"
    }
   ],
   "source": [
    "survived['sex'].hist(bins=2)"
   ]
  },
  {
   "cell_type": "markdown",
   "metadata": {},
   "source": [
    "- It is evident here that way more females survived than males. This actually makes sense because, they saved women first on the life boats, then the men"
   ]
  },
  {
   "cell_type": "markdown",
   "metadata": {},
   "source": [
    "Here we take the distribution of ages among those who survived"
   ]
  },
  {
   "cell_type": "code",
   "execution_count": 11,
   "metadata": {},
   "outputs": [
    {
     "data": {
      "text/plain": [
       "<matplotlib.axes._subplots.AxesSubplot at 0x7f3c723298d0>"
      ]
     },
     "execution_count": 11,
     "metadata": {},
     "output_type": "execute_result"
    },
    {
     "data": {
      "image/png": "[encoded data removed]",
      "text/plain": [
       "<Figure size 432x288 with 1 Axes>"
      ]
     },
     "metadata": {
      "needs_background": "light"
     },
     "output_type": "display_data"
    }
   ],
   "source": [
    "survived['age'].hist(bins=40)"
   ]
  },
  {
   "cell_type": "markdown",
   "metadata": {},
   "source": [
    "-  Most survivors were in there 20s or 30s but this likely due to the reason the most passengers were probably in there 20s and 30s\n",
    "- We see the number of kids 0-5 years of age who survived is relatively close to those in there 20s and 30s despite there probably being less of them\n",
    "- We can attribute this to there being a prioritization of saving children as there was women\n"
   ]
  },
  {
   "cell_type": "code",
   "execution_count": 12,
   "metadata": {},
   "outputs": [
    {
     "name": "stdout",
     "output_type": "stream",
     "text": [
      "Kids under 6 years old: (44,)\n"
     ]
    },
    {
     "data": {
      "text/html": [
       "<div>\n",
       "<style scoped>\n",
       "    .dataframe tbody tr th:only-of-type {\n",
       "        vertical-align: middle;\n",
       "    }\n",
       "\n",
       "    .dataframe tbody tr th {\n",
       "        vertical-align: top;\n",
       "    }\n",
       "\n",
       "    .dataframe thead th {\n",
       "        text-align: right;\n",
       "    }\n",
       "</style>\n",
       "<table border=\"1\" class=\"dataframe\">\n",
       "  <thead>\n",
       "    <tr style=\"text-align: right;\">\n",
       "      <th></th>\n",
       "      <th>survived</th>\n",
       "      <th>pclass</th>\n",
       "      <th>age</th>\n",
       "      <th>sibsp</th>\n",
       "      <th>parch</th>\n",
       "      <th>fare</th>\n",
       "    </tr>\n",
       "  </thead>\n",
       "  <tbody>\n",
       "    <tr>\n",
       "      <th>count</th>\n",
       "      <td>891.000000</td>\n",
       "      <td>891.000000</td>\n",
       "      <td>714.000000</td>\n",
       "      <td>891.000000</td>\n",
       "      <td>891.000000</td>\n",
       "      <td>891.000000</td>\n",
       "    </tr>\n",
       "    <tr>\n",
       "      <th>mean</th>\n",
       "      <td>0.383838</td>\n",
       "      <td>2.308642</td>\n",
       "      <td>29.699118</td>\n",
       "      <td>0.523008</td>\n",
       "      <td>0.381594</td>\n",
       "      <td>32.204208</td>\n",
       "    </tr>\n",
       "    <tr>\n",
       "      <th>std</th>\n",
       "      <td>0.486592</td>\n",
       "      <td>0.836071</td>\n",
       "      <td>14.526497</td>\n",
       "      <td>1.102743</td>\n",
       "      <td>0.806057</td>\n",
       "      <td>49.693429</td>\n",
       "    </tr>\n",
       "    <tr>\n",
       "      <th>min</th>\n",
       "      <td>0.000000</td>\n",
       "      <td>1.000000</td>\n",
       "      <td>0.420000</td>\n",
       "      <td>0.000000</td>\n",
       "      <td>0.000000</td>\n",
       "      <td>0.000000</td>\n",
       "    </tr>\n",
       "    <tr>\n",
       "      <th>25%</th>\n",
       "      <td>0.000000</td>\n",
       "      <td>2.000000</td>\n",
       "      <td>20.125000</td>\n",
       "      <td>0.000000</td>\n",
       "      <td>0.000000</td>\n",
       "      <td>7.910400</td>\n",
       "    </tr>\n",
       "    <tr>\n",
       "      <th>50%</th>\n",
       "      <td>0.000000</td>\n",
       "      <td>3.000000</td>\n",
       "      <td>28.000000</td>\n",
       "      <td>0.000000</td>\n",
       "      <td>0.000000</td>\n",
       "      <td>14.454200</td>\n",
       "    </tr>\n",
       "    <tr>\n",
       "      <th>75%</th>\n",
       "      <td>1.000000</td>\n",
       "      <td>3.000000</td>\n",
       "      <td>38.000000</td>\n",
       "      <td>1.000000</td>\n",
       "      <td>0.000000</td>\n",
       "      <td>31.000000</td>\n",
       "    </tr>\n",
       "    <tr>\n",
       "      <th>max</th>\n",
       "      <td>1.000000</td>\n",
       "      <td>3.000000</td>\n",
       "      <td>80.000000</td>\n",
       "      <td>8.000000</td>\n",
       "      <td>6.000000</td>\n",
       "      <td>512.329200</td>\n",
       "    </tr>\n",
       "  </tbody>\n",
       "</table>\n",
       "</div>"
      ],
      "text/plain": [
       "         survived      pclass         age       sibsp       parch        fare\n",
       "count  891.000000  891.000000  714.000000  891.000000  891.000000  891.000000\n",
       "mean     0.383838    2.308642   29.699118    0.523008    0.381594   32.204208\n",
       "std      0.486592    0.836071   14.526497    1.102743    0.806057   49.693429\n",
       "min      0.000000    1.000000    0.420000    0.000000    0.000000    0.000000\n",
       "25%      0.000000    2.000000   20.125000    0.000000    0.000000    7.910400\n",
       "50%      0.000000    3.000000   28.000000    0.000000    0.000000   14.454200\n",
       "75%      1.000000    3.000000   38.000000    1.000000    0.000000   31.000000\n",
       "max      1.000000    3.000000   80.000000    8.000000    6.000000  512.329200"
      ]
     },
     "execution_count": 12,
     "metadata": {},
     "output_type": "execute_result"
    }
   ],
   "source": [
    "print('Kids under 6 years old:',df[df.age < 6]['age'].shape)\n",
    "df.describe()"
   ]
  },
  {
   "cell_type": "markdown",
   "metadata": {},
   "source": [
    "- By looking at some summary statisitics we can see the middle 50% of the 714 recorded passangers were between 20 and 38 and by looking at kids less than 6 years old we see there were only about 44 to begin with, conforming my prior assumption"
   ]
  },
  {
   "cell_type": "markdown",
   "metadata": {},
   "source": [
    "## Problem 2.2"
   ]
  },
  {
   "cell_type": "code",
   "execution_count": 13,
   "metadata": {},
   "outputs": [
    {
     "data": {
      "text/html": [
       "<div>\n",
       "<style scoped>\n",
       "    .dataframe tbody tr th:only-of-type {\n",
       "        vertical-align: middle;\n",
       "    }\n",
       "\n",
       "    .dataframe tbody tr th {\n",
       "        vertical-align: top;\n",
       "    }\n",
       "\n",
       "    .dataframe thead th {\n",
       "        text-align: right;\n",
       "    }\n",
       "</style>\n",
       "<table border=\"1\" class=\"dataframe\">\n",
       "  <thead>\n",
       "    <tr style=\"text-align: right;\">\n",
       "      <th></th>\n",
       "      <th>mpg</th>\n",
       "      <th>cylinders</th>\n",
       "      <th>displacement</th>\n",
       "      <th>horsepower</th>\n",
       "      <th>weight</th>\n",
       "      <th>acceleration</th>\n",
       "      <th>model year</th>\n",
       "      <th>origin</th>\n",
       "    </tr>\n",
       "  </thead>\n",
       "  <tbody>\n",
       "    <tr>\n",
       "      <th>count</th>\n",
       "      <td>398.000000</td>\n",
       "      <td>398.000000</td>\n",
       "      <td>398.000000</td>\n",
       "      <td>392.000000</td>\n",
       "      <td>398.000000</td>\n",
       "      <td>398.000000</td>\n",
       "      <td>398.000000</td>\n",
       "      <td>398.000000</td>\n",
       "    </tr>\n",
       "    <tr>\n",
       "      <th>mean</th>\n",
       "      <td>23.514573</td>\n",
       "      <td>5.454774</td>\n",
       "      <td>193.425879</td>\n",
       "      <td>104.469388</td>\n",
       "      <td>2970.424623</td>\n",
       "      <td>15.568090</td>\n",
       "      <td>76.010050</td>\n",
       "      <td>1.572864</td>\n",
       "    </tr>\n",
       "    <tr>\n",
       "      <th>std</th>\n",
       "      <td>7.815984</td>\n",
       "      <td>1.701004</td>\n",
       "      <td>104.269838</td>\n",
       "      <td>38.491160</td>\n",
       "      <td>846.841774</td>\n",
       "      <td>2.757689</td>\n",
       "      <td>3.697627</td>\n",
       "      <td>0.802055</td>\n",
       "    </tr>\n",
       "    <tr>\n",
       "      <th>min</th>\n",
       "      <td>9.000000</td>\n",
       "      <td>3.000000</td>\n",
       "      <td>68.000000</td>\n",
       "      <td>46.000000</td>\n",
       "      <td>1613.000000</td>\n",
       "      <td>8.000000</td>\n",
       "      <td>70.000000</td>\n",
       "      <td>1.000000</td>\n",
       "    </tr>\n",
       "    <tr>\n",
       "      <th>25%</th>\n",
       "      <td>17.500000</td>\n",
       "      <td>4.000000</td>\n",
       "      <td>104.250000</td>\n",
       "      <td>75.000000</td>\n",
       "      <td>2223.750000</td>\n",
       "      <td>13.825000</td>\n",
       "      <td>73.000000</td>\n",
       "      <td>1.000000</td>\n",
       "    </tr>\n",
       "    <tr>\n",
       "      <th>50%</th>\n",
       "      <td>23.000000</td>\n",
       "      <td>4.000000</td>\n",
       "      <td>148.500000</td>\n",
       "      <td>93.500000</td>\n",
       "      <td>2803.500000</td>\n",
       "      <td>15.500000</td>\n",
       "      <td>76.000000</td>\n",
       "      <td>1.000000</td>\n",
       "    </tr>\n",
       "    <tr>\n",
       "      <th>75%</th>\n",
       "      <td>29.000000</td>\n",
       "      <td>8.000000</td>\n",
       "      <td>262.000000</td>\n",
       "      <td>126.000000</td>\n",
       "      <td>3608.000000</td>\n",
       "      <td>17.175000</td>\n",
       "      <td>79.000000</td>\n",
       "      <td>2.000000</td>\n",
       "    </tr>\n",
       "    <tr>\n",
       "      <th>max</th>\n",
       "      <td>46.600000</td>\n",
       "      <td>8.000000</td>\n",
       "      <td>455.000000</td>\n",
       "      <td>230.000000</td>\n",
       "      <td>5140.000000</td>\n",
       "      <td>24.800000</td>\n",
       "      <td>82.000000</td>\n",
       "      <td>3.000000</td>\n",
       "    </tr>\n",
       "  </tbody>\n",
       "</table>\n",
       "</div>"
      ],
      "text/plain": [
       "              mpg   cylinders  displacement  horsepower       weight  \\\n",
       "count  398.000000  398.000000    398.000000  392.000000   398.000000   \n",
       "mean    23.514573    5.454774    193.425879  104.469388  2970.424623   \n",
       "std      7.815984    1.701004    104.269838   38.491160   846.841774   \n",
       "min      9.000000    3.000000     68.000000   46.000000  1613.000000   \n",
       "25%     17.500000    4.000000    104.250000   75.000000  2223.750000   \n",
       "50%     23.000000    4.000000    148.500000   93.500000  2803.500000   \n",
       "75%     29.000000    8.000000    262.000000  126.000000  3608.000000   \n",
       "max     46.600000    8.000000    455.000000  230.000000  5140.000000   \n",
       "\n",
       "       acceleration  model year      origin  \n",
       "count    398.000000  398.000000  398.000000  \n",
       "mean      15.568090   76.010050    1.572864  \n",
       "std        2.757689    3.697627    0.802055  \n",
       "min        8.000000   70.000000    1.000000  \n",
       "25%       13.825000   73.000000    1.000000  \n",
       "50%       15.500000   76.000000    1.000000  \n",
       "75%       17.175000   79.000000    2.000000  \n",
       "max       24.800000   82.000000    3.000000  "
      ]
     },
     "execution_count": 13,
     "metadata": {},
     "output_type": "execute_result"
    }
   ],
   "source": [
    "path = 'http://archive.ics.uci.edu/ml/machine-learning-databases/auto-mpg/auto-mpg.data'\n",
    "feature_names = ['mpg', 'cylinders','displacement','horsepower','weight', \\\n",
    "            'acceleration','model year', 'origin','car name']\n",
    "\n",
    "\n",
    "dfs = {\n",
    "    \n",
    "    \"NORM\": None,\n",
    "    \"MEDIAN\":None,\n",
    "    \"MODE\":None,\n",
    "    \"MEAN\":None\n",
    "}\n",
    "\n",
    "for strategy in dfs.keys():\n",
    "    dfs[strategy] = pd.read_csv(path, delim_whitespace = True, na_values=['?'],names = feature_names)\n",
    "#     dfs[strategy][\"horsepower\"] = dfs[strategy][[\"horsepower\"]].replace('?', np.nan)\n",
    "\n",
    "dfs[\"NORM\"].describe()\n",
    "\n"
   ]
  },
  {
   "cell_type": "markdown",
   "metadata": {},
   "source": [
    "### Imputing Strategy: Mean"
   ]
  },
  {
   "cell_type": "code",
   "execution_count": 14,
   "metadata": {},
   "outputs": [
    {
     "name": "stdout",
     "output_type": "stream",
     "text": [
      "Variance: 1459.177916002673\n"
     ]
    }
   ],
   "source": [
    "imp = SimpleImputer(missing_values = np.nan, strategy = \"mean\")\n",
    "dfs[\"MEAN\"].horsepower = imp.fit_transform(dfs[\"MEAN\"][[\"horsepower\"]])\n",
    "print(\"Variance:\",dfs[\"MEAN\"][\"horsepower\"].var(axis=0))\n"
   ]
  },
  {
   "cell_type": "markdown",
   "metadata": {},
   "source": [
    "### Imputing Strategy: Mode"
   ]
  },
  {
   "cell_type": "code",
   "execution_count": 15,
   "metadata": {},
   "outputs": [
    {
     "name": "stdout",
     "output_type": "stream",
     "text": [
      "Variance: 1490.036125210435\n"
     ]
    }
   ],
   "source": [
    "imp = SimpleImputer(missing_values=np.nan, strategy = \"most_frequent\")\n",
    "dfs[\"MODE\"].horsepower = imp.fit_transform(dfs[\"MODE\"][[\"horsepower\"]])\n",
    "print(\"Variance:\",dfs[\"MODE\"][\"horsepower\"].var(axis=0))"
   ]
  },
  {
   "cell_type": "markdown",
   "metadata": {},
   "source": [
    "### Imputing Strategy: Median"
   ]
  },
  {
   "cell_type": "code",
   "execution_count": 16,
   "metadata": {},
   "outputs": [
    {
     "name": "stdout",
     "output_type": "stream",
     "text": [
      "Variance: 1460.969051808159\n"
     ]
    }
   ],
   "source": [
    "imp = SimpleImputer(missing_values=np.nan, strategy = \"median\")\n",
    "dfs[\"MEDIAN\"].horsepower = imp.fit_transform(dfs[\"MEDIAN\"][[\"horsepower\"]])\n",
    "print(\"Variance:\",dfs[\"MEDIAN\"][\"horsepower\"].var(axis=0))"
   ]
  },
  {
   "cell_type": "markdown",
   "metadata": {},
   "source": [
    "So we can see here that out of all the imputing strategies, the one that yielded the least variance was the **mean**, and this is a pretty intuitive/obvious observation if we think about what variance really is, which is how close or far the dataset is from the mean. But if we're replacing missing values with the mean itself, than all we're really doing is adding datapoints that don't vary from the mean at all, which should mitigate variance.The equation for variance for mean is:\n",
    "## $\\sum_{i=1}^{n}\\frac{(X_i - \\bar{X})^2}{n-1}$\n",
    "We can see that a datapoint that is equal to the mean would add a 0 to the overall calcualtion of variance, thus minimizing it. \n",
    "\n"
   ]
  },
  {
   "cell_type": "markdown",
   "metadata": {},
   "source": [
    "## Problem 2.3"
   ]
  },
  {
   "cell_type": "code",
   "execution_count": 17,
   "metadata": {},
   "outputs": [],
   "source": [
    "## Reading in iris dataset\n",
    "path = \"https://archive.ics.uci.edu/ml/machine-learning-databases/iris/iris.data\"\n",
    "feature_names = [\"sepal_length\", \"sepal_width\", \"petal_length\", \"petal_width\", \"class\"]\n",
    "df = pd.read_csv(path, names = feature_names)\n",
    "featureMatrix = df[['sepal_length','sepal_width', 'petal_length', 'petal_width']]\n",
    "categories = df[['class']]"
   ]
  },
  {
   "cell_type": "markdown",
   "metadata": {},
   "source": [
    "### Percent Variance of Original Features"
   ]
  },
  {
   "cell_type": "code",
   "execution_count": 18,
   "metadata": {},
   "outputs": [
    {
     "name": "stdout",
     "output_type": "stream",
     "text": [
      "sepal_length % variance of total variance:  0.15006561652804065\n",
      "sepal_width % variance of total variance:  0.04114511759566784\n",
      "petal_length % variance of total variance:  0.6813265407839868\n",
      "petal_width % variance of total variance:  0.12746272509230475\n"
     ]
    }
   ],
   "source": [
    "tot_var = 0\n",
    "for col in featureMatrix:\n",
    "    tot_var += featureMatrix[col].var(axis=0)\n",
    "\n",
    "for col in featureMatrix:\n",
    "    print(col, \"% variance of total variance: \", featureMatrix[col].var(axis=0) / tot_var)\n",
    "\n"
   ]
  },
  {
   "cell_type": "markdown",
   "metadata": {},
   "source": [
    "### Percent Variance of 4 Principal Components"
   ]
  },
  {
   "cell_type": "code",
   "execution_count": 19,
   "metadata": {},
   "outputs": [
    {
     "name": "stdout",
     "output_type": "stream",
     "text": [
      "PC1 % variance of total variance:  0.9246162071742684\n",
      "PC2 % variance of total variance:  0.05301556785053506\n",
      "PC3 % variance of total variance:  0.01718513952500679\n",
      "PC4 % variance of total variance:  0.005183085450189931\n"
     ]
    }
   ],
   "source": [
    "pca4 = PCA(n_components=4)\n",
    "tot_pca_var = 0\n",
    "PC4_MAT = pca4.fit_transform(featureMatrix)\n",
    "for (i, variance )in enumerate(pca4.explained_variance_ratio_):\n",
    "    print(\"PC\"+str(i+1), \"% variance of total variance: \", variance)\n",
    "    \n",
    "\n"
   ]
  },
  {
   "cell_type": "markdown",
   "metadata": {},
   "source": [
    "We can see that in the PCA , most of the variance is concentrated in fewer Principal features but in the original feature set, the variance is more evenly distributed "
   ]
  },
  {
   "cell_type": "markdown",
   "metadata": {},
   "source": [
    "### Percent Variance of 3 Prinicpal Components"
   ]
  },
  {
   "cell_type": "code",
   "execution_count": 68,
   "metadata": {},
   "outputs": [
    {
     "name": "stdout",
     "output_type": "stream",
     "text": [
      " % Principal Component 1 Variance: 0.9246162071742684\n",
      " % Principal Component 2 Variance: 0.05301556785053506\n",
      " % Principal Component 3 Variance: 0.01718513952500679\n"
     ]
    }
   ],
   "source": [
    "pca3 = PCA(n_components=3)\n",
    "PC3_MAT = pca3.fit_transform(featureMatrix)\n",
    "for (i, variance )in enumerate(pca3.explained_variance_ratio_):\n",
    "    print(\" % Principal Component \"+str(i+1), \"Variance:\", variance)\n"
   ]
  },
  {
   "cell_type": "markdown",
   "metadata": {},
   "source": [
    "### Percent Variance of 2 Principal Components"
   ]
  },
  {
   "cell_type": "code",
   "execution_count": 69,
   "metadata": {},
   "outputs": [
    {
     "name": "stdout",
     "output_type": "stream",
     "text": [
      "% Principal Component 1 Variance: 0.9246162071742684\n",
      "% Principal Component 2 Variance: 0.05301556785053506\n"
     ]
    }
   ],
   "source": [
    "pca2 = PCA(n_components=2)\n",
    "pca2.fit_transform(featureMatrix)\n",
    "for (i, variance )in enumerate(pca2.explained_variance_ratio_):\n",
    "    print(\"% Principal Component \"+str(i+1), \"Variance:\", variance)"
   ]
  },
  {
   "cell_type": "markdown",
   "metadata": {},
   "source": [
    "### Percent Variance of 1 Prinicpal Component"
   ]
  },
  {
   "cell_type": "code",
   "execution_count": 70,
   "metadata": {},
   "outputs": [
    {
     "name": "stdout",
     "output_type": "stream",
     "text": [
      "% Principal Component 1 Variance: 0.9246162071742684\n"
     ]
    }
   ],
   "source": [
    "pca1 = PCA(n_components=1)\n",
    "PC1_MAT = pca1.fit_transform(featureMatrix)\n",
    "for (i, variance )in enumerate(pca1.explained_variance_ratio_):\n",
    "    print(\"% Principal Component \"+str(i+1), \"Variance:\", variance)"
   ]
  },
  {
   "cell_type": "code",
   "execution_count": 71,
   "metadata": {},
   "outputs": [],
   "source": [
    "PC1_MAT = pd.DataFrame(PC1_MAT)\n"
   ]
  },
  {
   "cell_type": "markdown",
   "metadata": {},
   "source": [
    "When looking at the variance of the original features and the prinicpal compnent after applying a PCA with 1 principal component, we can see that all of the original features had low variances except for petal length,\n",
    "however in the principal component, we see a slightly higher variance than all of the other features aside from petal length. "
   ]
  },
  {
   "cell_type": "markdown",
   "metadata": {},
   "source": [
    "## Problem 2.4"
   ]
  },
  {
   "cell_type": "markdown",
   "metadata": {},
   "source": [
    "### Plotting each original feature vs Principal component 1\n",
    "### Calculating each correlation coefficant"
   ]
  },
  {
   "cell_type": "code",
   "execution_count": 72,
   "metadata": {},
   "outputs": [
    {
     "name": "stdout",
     "output_type": "stream",
     "text": [
      "SEPAL_LENGTH vs PC1\n"
     ]
    },
    {
     "data": {
      "image/png": "[encoded data removed]",
      "text/plain": [
       "<Figure size 432x288 with 1 Axes>"
      ]
     },
     "metadata": {
      "needs_background": "light"
     },
     "output_type": "display_data"
    },
    {
     "name": "stdout",
     "output_type": "stream",
     "text": [
      "Correlational Coeffciant sepal_length vs PC1: 0.8975448849407612\n",
      "\n",
      "\n",
      "SEPAL_WIDTH vs PC1\n"
     ]
    },
    {
     "data": {
      "image/png": "[encoded data removed]",
      "text/plain": [
       "<Figure size 432x288 with 1 Axes>"
      ]
     },
     "metadata": {
      "needs_background": "light"
     },
     "output_type": "display_data"
    },
    {
     "name": "stdout",
     "output_type": "stream",
     "text": [
      "Correlational Coeffciant sepal_width vs PC1: -0.38999337904750586\n",
      "\n",
      "\n",
      "PETAL_LENGTH vs PC1\n"
     ]
    },
    {
     "data": {
      "image/png": "[encoded data removed]",
      "text/plain": [
       "<Figure size 432x288 with 1 Axes>"
      ]
     },
     "metadata": {
      "needs_background": "light"
     },
     "output_type": "display_data"
    },
    {
     "name": "stdout",
     "output_type": "stream",
     "text": [
      "Correlational Coeffciant petal_length vs PC1: 0.9978540506354597\n",
      "\n",
      "\n",
      "PETAL_WIDTH vs PC1\n"
     ]
    },
    {
     "data": {
      "image/png": "[encoded data removed]",
      "text/plain": [
       "<Figure size 432x288 with 1 Axes>"
      ]
     },
     "metadata": {
      "needs_background": "light"
     },
     "output_type": "display_data"
    },
    {
     "name": "stdout",
     "output_type": "stream",
     "text": [
      "Correlational Coeffciant petal_width vs PC1: 0.9664841831537924\n",
      "\n",
      "\n"
     ]
    }
   ],
   "source": [
    "\n",
    "for feature in featureMatrix:\n",
    "    x_data = featureMatrix[feature]\n",
    "    y_data = PC1_MAT[0]\n",
    "    plt.scatter(x_data, y_data)\n",
    "    plt.ylabel('PC1')\n",
    "    plt.xlabel(feature)\n",
    "    print(feature.upper(), \"vs\", \"PC1\")\n",
    "    plt.show()\n",
    "    print(\"Correlational Coeffciant\", feature, \"vs\", \"PC1:\", np.corrcoef(x_data, y_data)[0][1])\n",
    "    print(\"\\n\")\n"
   ]
  },
  {
   "cell_type": "markdown",
   "metadata": {},
   "source": [
    "We can see that the closest correlation is **petal length and PC1**, this is becuase petal length originally had the highest variance, so that's what PCA would use as the biggest factor when doing a change of basis"
   ]
  },
  {
   "cell_type": "markdown",
   "metadata": {},
   "source": [
    "I would agree that the numerical correlational coefficants match the visual description \n",
    "becuase the stronger the visual correlation the closer the coefficiant is to 1"
   ]
  },
  {
   "cell_type": "markdown",
   "metadata": {},
   "source": [
    "## Problem 2.5"
   ]
  },
  {
   "cell_type": "markdown",
   "metadata": {},
   "source": [
    "### Variance of original features as well as each principal component when using 4 Principal compoents"
   ]
  },
  {
   "cell_type": "code",
   "execution_count": 73,
   "metadata": {},
   "outputs": [
    {
     "name": "stdout",
     "output_type": "stream",
     "text": [
      "Variance of sepal_length = 0.6856935123042507\n",
      "Variance of sepal_width = 0.1880040268456376\n",
      "Variance of petal_length = 3.113179418344519\n",
      "Variance of petal_width = 0.582414317673378\n",
      "TOTAL VARIANCE: 4.569291275167785\n",
      "\n",
      "\n",
      "Variance of PC1 = 4.224840768320115\n",
      "Variance of PC2 = 0.24224357162751553\n",
      "Variance of PC3 = 0.07852390809415459\n",
      "Variance of PC4 = 0.023683027126001944\n",
      "PCA TOTAL VARIANCE: 4.569291275167786\n",
      "\n",
      " % Variance captured by PC 1 and 2: 0.9776317750248036\n"
     ]
    }
   ],
   "source": [
    "\n",
    "pca = PCA(n_components=4)\n",
    "dataset_pca = pd.DataFrame(pca.fit_transform(featureMatrix), \n",
    "                           columns=['PC1', 'PC2', 'PC3', 'PC4'])\n",
    "pca_tot_var = 0\n",
    "tot_var = 0\n",
    "\n",
    "for feature in featureMatrix:\n",
    "    print(\"Variance of\",feature, \"=\",featureMatrix[feature].var())\n",
    "    tot_var += featureMatrix[feature].var()\n",
    "\n",
    "print(\"TOTAL VARIANCE:\", tot_var)\n",
    "\n",
    "print(\"\\n\")\n",
    "\n",
    "for PC in dataset_pca:\n",
    "    print(\"Variance of\", PC, \"=\", dataset_pca[PC].var())\n",
    "    pca_tot_var += dataset_pca[PC].var()\n",
    "    \n",
    "print(\"PCA TOTAL VARIANCE:\", pca_tot_var)\n",
    "    \n",
    "print(\"\\n\",\"% Variance captured by PC 1 and 2:\",(dataset_pca[\"PC1\"].var() + dataset_pca[\"PC2\"].var()) /tot_var)"
   ]
  },
  {
   "cell_type": "markdown",
   "metadata": {},
   "source": [
    "We can see that the total variance between PCA of 4 components and the original feature space is the same"
   ]
  },
  {
   "cell_type": "markdown",
   "metadata": {},
   "source": [
    "To capture at least 95% of variance we'd have to use PC1 and PC2, so we'd be reducing our dataset to **2** features"
   ]
  }
 ],
 "metadata": {
  "kernelspec": {
   "display_name": "Python 3",
   "language": "python",
   "name": "python3"
  },
  "language_info": {
   "codemirror_mode": {
    "name": "ipython",
    "version": 3
   },
   "file_extension": ".py",
   "mimetype": "text/x-python",
   "name": "python",
   "nbconvert_exporter": "python",
   "pygments_lexer": "ipython3",
   "version": "3.6.9"
  }
 },
 "nbformat": 4,
 "nbformat_minor": 2
}
