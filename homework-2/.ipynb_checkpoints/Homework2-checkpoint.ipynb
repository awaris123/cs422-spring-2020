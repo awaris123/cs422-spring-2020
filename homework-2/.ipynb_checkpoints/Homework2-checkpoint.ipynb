{
 "cells": [
  {
   "cell_type": "markdown",
   "metadata": {},
   "source": [
    "# Homework 2"
   ]
  },
  {
   "cell_type": "markdown",
   "metadata": {},
   "source": [
    "## Recitation Exercises"
   ]
  },
  {
   "cell_type": "markdown",
   "metadata": {},
   "source": [
    "### Exercise 3.2"
   ]
  },
  {
   "cell_type": "markdown",
   "metadata": {},
   "source": []
  },
  {
   "cell_type": "markdown",
   "metadata": {},
   "source": [
    "### Exercise 3.3"
   ]
  },
  {
   "cell_type": "markdown",
   "metadata": {},
   "source": []
  },
  {
   "cell_type": "markdown",
   "metadata": {},
   "source": [
    "### Exercise 3.5"
   ]
  },
  {
   "cell_type": "markdown",
   "metadata": {},
   "source": []
  },
  {
   "cell_type": "markdown",
   "metadata": {},
   "source": [
    "### Exercise 3.6"
   ]
  },
  {
   "cell_type": "markdown",
   "metadata": {},
   "source": []
  },
  {
   "cell_type": "markdown",
   "metadata": {},
   "source": [
    "### Exercise 3.7"
   ]
  },
  {
   "cell_type": "markdown",
   "metadata": {},
   "source": []
  },
  {
   "cell_type": "markdown",
   "metadata": {},
   "source": [
    "### Exercise 3.8"
   ]
  },
  {
   "cell_type": "markdown",
   "metadata": {},
   "source": []
  },
  {
   "cell_type": "markdown",
   "metadata": {},
   "source": [
    "### Exercise 3.12"
   ]
  },
  {
   "cell_type": "markdown",
   "metadata": {},
   "source": []
  },
  {
   "cell_type": "markdown",
   "metadata": {},
   "source": [
    "## Practicum Problems"
   ]
  },
  {
   "cell_type": "markdown",
   "metadata": {},
   "source": [
    "### Problem 1\n",
    "Load the iris sample dataset from sklearn (load iris()) into Python using a\n",
    "Pandas dataframe. Induce a set of binary Decision Trees with a minimum of\n",
    "2 instances in the leaves, no splits of subsets below 5, and an maximal tree\n",
    "depth from 1 to 5 (you can leave other parameters at their defaults). Which\n",
    "depth values result in the highest Recall? Why? Which value resulted in the\n",
    "lowest Precision? Why? Which value results in the best F1 score? Explain the\n",
    "difference between the micro/macro/weighted methods of score calculation."
   ]
  },
  {
   "cell_type": "code",
   "execution_count": null,
   "metadata": {},
   "outputs": [],
   "source": []
  },
  {
   "cell_type": "markdown",
   "metadata": {},
   "source": [
    "### Problem 2\n",
    "Load the Breast Cancer Wisconsin (Diagnostic) sample dataset from the UCI\n",
    "Machine Learning Repository (The discrete version at: breast-cancer-\n",
    "wisconsin.data) into Python using a Pandas dataframe. Induce a binary\n",
    "Decision Tree with a minimum of 2 instances in the leaves, no splits of subsets\n",
    "below 5, and a maximal tree depth of 2 (use the default Gini criterion). Calculate\n",
    "the Entropy, Gini, and Misclassification Error of the first split - what is the\n",
    "Information Gain? What is the feature selected for the first split, and what\n",
    "value determines the decision boundary?"
   ]
  },
  {
   "cell_type": "code",
   "execution_count": null,
   "metadata": {},
   "outputs": [],
   "source": []
  },
  {
   "cell_type": "markdown",
   "metadata": {},
   "source": [
    "### Problem 3\n",
    "Load the Breast Cancer Wisconsin (Diagnostic) sample dataset from the UCI\n",
    "Machine Learning Repository (The continuous version at: wdbc.data) into Python using a Pandas dataframe. Induce the same binary Decision Tree\n",
    "as above (now using the continuous data) but perform a PCA dimensionality\n",
    "reduction beforehand. Using only the first principal component of the data for\n",
    "a model fit, what is the F1, Precision, and Recall of the PCA-based single factor\n",
    "model compared to the original (continuous) data? Repeat using the first and\n",
    "second principal components. Using the Confusion Matrix, what are the values\n",
    "for FP and TP as well as FPR/TPR? Is using continuous data in this case\n",
    "beneficial within the model? How?"
   ]
  },
  {
   "cell_type": "code",
   "execution_count": null,
   "metadata": {},
   "outputs": [],
   "source": []
  },
  {
   "cell_type": "markdown",
   "metadata": {},
   "source": [
    "### Problem 4\n",
    "Simulate a binary classification dataset with a single feature using a mixture of\n",
    "normal distributions with NumPy (Hint: Generate two data frames with the\n",
    "random number and a class label, and combine them together). The normal\n",
    "distribution parameters (np.random.normal) should be (5,2) and (-5,2) for\n",
    "the pair of samples. Induce a binary Decision Tree of maximum depth 2, and\n",
    "obtain the threshold value for the feature in the first split. How does this value\n",
    "compare to the empirical distribution of the feature?"
   ]
  },
  {
   "cell_type": "code",
   "execution_count": null,
   "metadata": {},
   "outputs": [],
   "source": []
  }
 ],
 "metadata": {
  "kernelspec": {
   "display_name": "Python 3",
   "language": "python",
   "name": "python3"
  },
  "language_info": {
   "codemirror_mode": {
    "name": "ipython",
    "version": 3
   },
   "file_extension": ".py",
   "mimetype": "text/x-python",
   "name": "python",
   "nbconvert_exporter": "python",
   "pygments_lexer": "ipython3",
   "version": "3.6.9"
  }
 },
 "nbformat": 4,
 "nbformat_minor": 4
}
